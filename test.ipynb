{
 "cells": [
  {
   "cell_type": "code",
   "execution_count": 1,
   "metadata": {},
   "outputs": [],
   "source": [
    "import os\n",
    "import torch\n",
    "import numpy as np\n",
    "from tqdm import tqdm\n",
    "\n",
    "from torch.optim import Adam\n",
    "from torch.optim.lr_scheduler import CosineAnnealingLR\n",
    "from torch.utils.data.dataloader import DataLoader\n",
    "\n",
    "from preprocessor import AgeRecognitionPreprocessor\n",
    "from dataset import AgeRecognitionDataset\n",
    "from models import vit_l_16_age_recognizer, vit_b_16_age_recognizer, rese\n",
    "from loss import AgeRecognitionLoss"
   ]
  },
  {
   "cell_type": "code",
   "execution_count": 2,
   "metadata": {},
   "outputs": [],
   "source": [
    "IMAGE_DIR = './Cleaned/'\n",
    "TEST_PAIRINGS = './test_data.csv'\n",
    "BATCH_SIZE = 12\n",
    "EPOCHES = 1000\n",
    "DEVICE = 'cuda'"
   ]
  },
  {
   "cell_type": "code",
   "execution_count": 3,
   "metadata": {},
   "outputs": [],
   "source": [
    "model = vit_b_16_age_recognizer().to(DEVICE)\n",
    "loss_function = AgeRecognitionLoss().to(DEVICE)\n",
    "preprocessor = AgeRecognitionPreprocessor()\n",
    "dataset = AgeRecognitionDataset(triplet_csv_path=TEST_PAIRINGS, image_dir=IMAGE_DIR, preprocessor=preprocessor, kfolds=1, device=DEVICE)"
   ]
  },
  {
   "cell_type": "code",
   "execution_count": 4,
   "metadata": {},
   "outputs": [
    {
     "name": "stdout",
     "output_type": "stream",
     "text": [
      "Loading best ver...\n"
     ]
    }
   ],
   "source": [
    "if os.path.exists('./Checkpoint/best.pt'):\n",
    "    print(\"Loading best ver...\")\n",
    "    best_state = torch.load('./Checkpoint/best.pt')\n",
    "    model.load_state_dict(best_state['model_state_dict'])\n",
    "    loss_function.load_state_dict(best_state['loss_state_dict'])"
   ]
  },
  {
   "cell_type": "code",
   "execution_count": 6,
   "metadata": {},
   "outputs": [
    {
     "name": "stderr",
     "output_type": "stream",
     "text": [
      "100%|██████████| 49828/49828 [17:20<00:00, 47.88it/s]"
     ]
    },
    {
     "name": "stdout",
     "output_type": "stream",
     "text": [
      "tensor(0.4296)\n"
     ]
    },
    {
     "name": "stderr",
     "output_type": "stream",
     "text": [
      "\n"
     ]
    }
   ],
   "source": [
    "torch.manual_seed(3407)\n",
    "record = []\n",
    "model.eval()    \n",
    "total_loss = 0\n",
    "for item in tqdm(dataset):\n",
    "    # Batch shape: (N, Anchor-Positive-Negative, C, H, W)\n",
    "    predictions = model.forward_features(item)\n",
    "    testing_loss = loss_function(predictions.unsqueeze(0))\n",
    "    total_loss += testing_loss.cpu().detach()\n",
    "print(total_loss / len(dataset))\n"
   ]
  }
 ],
 "metadata": {
  "kernelspec": {
   "display_name": "agerec",
   "language": "python",
   "name": "python3"
  },
  "language_info": {
   "codemirror_mode": {
    "name": "ipython",
    "version": 3
   },
   "file_extension": ".py",
   "mimetype": "text/x-python",
   "name": "python",
   "nbconvert_exporter": "python",
   "pygments_lexer": "ipython3",
   "version": "3.8.10"
  },
  "orig_nbformat": 4
 },
 "nbformat": 4,
 "nbformat_minor": 2
}
