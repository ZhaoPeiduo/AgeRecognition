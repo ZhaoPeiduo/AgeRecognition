{
 "cells": [
  {
   "cell_type": "code",
   "execution_count": 31,
   "metadata": {},
   "outputs": [],
   "source": [
    "import torch\n",
    "import numpy as np\n",
    "\n",
    "from torch.optim import Adam\n",
    "from torch.optim.lr_scheduler import CosineAnnealingLR\n",
    "from torch.utils.data.dataloader import DataLoader\n",
    "\n",
    "from preprocessor import AgeRecognitionPreprocessor\n",
    "from dataset import AgeRecognitionDataset\n",
    "from models import vit_l_16_age_recognizer\n",
    "from loss import AgeRecognitionLoss"
   ]
  },
  {
   "cell_type": "code",
   "execution_count": 21,
   "metadata": {},
   "outputs": [],
   "source": [
    "lr = 1e-3\n",
    "\n",
    "IMAGE_DIR = './Cleaned/'\n",
    "TRAINING_PAIRINGS = './training_data.csv'\n",
    "BATCH_SIZE = 128"
   ]
  },
  {
   "cell_type": "code",
   "execution_count": 23,
   "metadata": {},
   "outputs": [],
   "source": [
    "model = vit_l_16_age_recognizer()\n",
    "loss = AgeRecognitionLoss()\n",
    "preprocessor = AgeRecognitionPreprocessor()"
   ]
  },
  {
   "cell_type": "code",
   "execution_count": 18,
   "metadata": {},
   "outputs": [],
   "source": [
    "optimizer = Adam(list(model.parameters()) + list(loss.parameters()), lr=lr)\n",
    "scheduler = CosineAnnealingLR(optimizer=optimizer, T_max=1000, eta_min=1e-6)"
   ]
  },
  {
   "cell_type": "code",
   "execution_count": 24,
   "metadata": {},
   "outputs": [],
   "source": [
    "dataset = AgeRecognitionDataset(triplet_csv_path=TRAINING_PAIRINGS, image_dir=IMAGE_DIR, preprocessor=preprocessor)\n",
    "dataloader = DataLoader(dataset=dataset, batch_size=)\n"
   ]
  },
  {
   "cell_type": "code",
   "execution_count": 35,
   "metadata": {},
   "outputs": [
    {
     "data": {
      "text/plain": [
       "array([1, 2, 3, 4, 5, 6, 7, 8, 9])"
      ]
     },
     "execution_count": 35,
     "metadata": {},
     "output_type": "execute_result"
    }
   ],
   "source": [
    "l1 = np.arange(1, 10)\n",
    "l2 = np.arange(2, 4)\n",
    "np.setdiff1d(l1, l2)"
   ]
  },
  {
   "cell_type": "code",
   "execution_count": 49,
   "metadata": {},
   "outputs": [],
   "source": [
    "def kfold_cross_validation(dataset, curr_fold, folds=5):\n",
    "    assert curr_fold < folds, \"Current fold exceeds total number of folds\"\n",
    "    per_partition_length = len(dataset) // folds\n",
    "    all_indices = np.arange(0, len(dataset))\n",
    "    validating_indices = np.arange(curr_fold * per_partition_length, (curr_fold + 1) * per_partition_length)\n",
    "    training_indices = np.setdiff1d(all_indices, validating_indices)\n",
    "    return training_indices, validating_indices"
   ]
  }
 ],
 "metadata": {
  "kernelspec": {
   "display_name": "agerec",
   "language": "python",
   "name": "python3"
  },
  "language_info": {
   "codemirror_mode": {
    "name": "ipython",
    "version": 3
   },
   "file_extension": ".py",
   "mimetype": "text/x-python",
   "name": "python",
   "nbconvert_exporter": "python",
   "pygments_lexer": "ipython3",
   "version": "3.8.10"
  },
  "orig_nbformat": 4
 },
 "nbformat": 4,
 "nbformat_minor": 2
}
